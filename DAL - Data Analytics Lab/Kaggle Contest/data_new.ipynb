{
 "cells": [
  {
   "cell_type": "code",
   "execution_count": null,
   "metadata": {},
   "outputs": [],
   "source": [
    "# Define the model\n",
    "model = models.Sequential([\n",
    "    layers.Input(shape=(1024,)),  # Input layer for 1024-dimensional embeddings\n",
    "    layers.Dense(512, activation='relu'),\n",
    "    layers.Dropout(0.3),\n",
    "    layers.Dense(256, activation='relu'),\n",
    "    layers.Dropout(0.3),\n",
    "    layers.Dense(len(mlb.classes_), activation='sigmoid')  # Output layer for multi-label classification\n",
    "])\n",
    "\n",
    "# Compile the model with binary cross-entropy loss for multi-label classification\n",
    "model.compile(optimizer='adam', loss='binary_crossentropy', metrics=[tf.keras.metrics.AUC(name=\"AUC\", multi_label=True)])\n",
    "\n",
    "# Train the model\n",
    "history = model.fit(X_train, y_train, validation_data=(X_val, y_val), epochs=10, batch_size=64)\n"
   ]
  },
  {
   "cell_type": "code",
   "execution_count": null,
   "metadata": {},
   "outputs": [],
   "source": [
    "import numpy as np\n",
    "import pandas as pd\n",
    "import tensorflow as tf\n",
    "from tensorflow.keras import layers, models, regularizers\n",
    "\n",
    "# Custom F2 loss function\n",
    "def f2_loss(y_true, y_pred):\n",
    "    y_pred = tf.cast(y_pred > 0.5, tf.float32)\n",
    "    tp = tf.reduce_sum(y_true * y_pred, axis=0)\n",
    "    fp = tf.reduce_sum((1 - y_true) * y_pred, axis=0)\n",
    "    fn = tf.reduce_sum(y_true * (1 - y_pred), axis=0)\n",
    "    f2 = (5 * tp) / (5 * tp + 4 * fn + fp + 1e-8)\n",
    "    return 1 - tf.reduce_mean(f2)  # 1 - F2 to minimize loss\n",
    "\n",
    "# Model architecture with increased complexity\n",
    "def create_model():\n",
    "    model = models.Sequential([\n",
    "        layers.Input(shape=(1024,)),\n",
    "        layers.Dense(1024, activation='relu', kernel_regularizer=regularizers.l2(0.001)),\n",
    "        layers.BatchNormalization(),\n",
    "        layers.Dropout(0.5),\n",
    "\n",
    "        layers.Dense(512, activation='relu', kernel_regularizer=regularizers.l2(0.001)),\n",
    "        layers.BatchNormalization(),\n",
    "        layers.Dropout(0.5),\n",
    "\n",
    "        layers.Dense(256, activation='relu', kernel_regularizer=regularizers.l2(0.001)),\n",
    "        layers.BatchNormalization(),\n",
    "        layers.Dropout(0.3),\n",
    "\n",
    "        layers.Dense(1400, activation='sigmoid')  # Multi-label output\n",
    "    ])\n",
    "    model.compile(optimizer='adam', loss=f2_loss, metrics=['binary_accuracy'])\n",
    "    return model\n",
    "\n",
    "# Create the model\n",
    "# model = create_model()\n",
    "\n",
    "# Train the model\n",
    "history = model.fit(X_train, y_train, validation_data=(X_val, y_val), epochs=10, batch_size=64)\n"
   ]
  }
 ],
 "metadata": {
  "kernelspec": {
   "display_name": "Python 3",
   "language": "python",
   "name": "python3"
  },
  "language_info": {
   "codemirror_mode": {
    "name": "ipython",
    "version": 3
   },
   "file_extension": ".py",
   "mimetype": "text/x-python",
   "name": "python",
   "nbconvert_exporter": "python",
   "pygments_lexer": "ipython3",
   "version": "3.12.4"
  }
 },
 "nbformat": 4,
 "nbformat_minor": 2
}
